{
  "nbformat": 4,
  "nbformat_minor": 0,
  "metadata": {
    "colab": {
      "name": "Python Assignment 4.ipynb",
      "provenance": [],
      "collapsed_sections": [
        "FcPanlHofKS2",
        "_cPEKsPkfeet",
        "KUGN986egBy9"
      ]
    },
    "kernelspec": {
      "name": "python3",
      "display_name": "Python 3"
    }
  },
  "cells": [
    {
      "cell_type": "markdown",
      "metadata": {
        "id": "cHFG7Uy6eRMM",
        "colab_type": "text"
      },
      "source": [
        "# Question 1.1\n",
        "**Write a Python program(with class concepts) to find the area of a triangle using the formula : $$ area = \\sqrt{s(s-a)(s-b)(s-c)} $$\n",
        "where $ s = (a+b+c)/2 $ and $a$, $b$ and $c$ are its sides. \\\\\n",
        "Function to take the length of the sides of the triangle from user should be defined in the parent class and function to calculate the area should be defined in subclass.**"
      ]
    },
    {
      "cell_type": "code",
      "metadata": {
        "id": "BJadpoALeNiU",
        "colab_type": "code",
        "colab": {}
      },
      "source": [
        "class triangle:                                                                          # parent class\n",
        "    def __init__(self, a, b, c):\n",
        "        self.side1 = a\n",
        "        self.side2 = b\n",
        "        self.side3 = c\n",
        "\n",
        "class area(triangle):                                                                     # subclass\n",
        "    def __init__(self, a, b, c):\n",
        "        super().__init__(a, b, c)                                                         # inheritance\n",
        "        s = (self.side1 + self.side2 + self.side3)/2\n",
        "        self.value = (s * (s - self.side1) * (s - self.side2) * (s - self.side3))**0.5    # calculating the area\n",
        "    def print_area(self):                                                                 # function to print the area\n",
        "        print(\"The area of a triangle with sides {}, {} and {} is {} square units.\".format(self.side1, self.side2, self.side3, self.value))"
      ],
      "execution_count": 21,
      "outputs": []
    },
    {
      "cell_type": "code",
      "metadata": {
        "id": "EmQezr3blvU1",
        "colab_type": "code",
        "colab": {
          "base_uri": "https://localhost:8080/",
          "height": 35
        },
        "outputId": "88e6ba0f-6fb2-4eb4-f316-e34626cf521a"
      },
      "source": [
        "T = area(1, 1, 2**0.5)\n",
        "T.print_area()"
      ],
      "execution_count": 22,
      "outputs": [
        {
          "output_type": "stream",
          "text": [
            "The area of a triangle with sides 1, 1 and 1.4142135623730951 is 0.49999999999999983 square units.\n"
          ],
          "name": "stdout"
        }
      ]
    },
    {
      "cell_type": "markdown",
      "metadata": {
        "id": "FcPanlHofKS2",
        "colab_type": "text"
      },
      "source": [
        "# Question 1.2\n",
        "**Write a function filter_long_words() that takes a list of words and an integer $n$ and returns the list of words that are longer than $n$.**"
      ]
    },
    {
      "cell_type": "code",
      "metadata": {
        "id": "tsqsjbpYfdIK",
        "colab_type": "code",
        "colab": {}
      },
      "source": [
        "def filter_long_words(words, n):\n",
        "    filtered_words = [word for word in words if len(word) > n]       # list of words of length > n\n",
        "    return(filtered_words)"
      ],
      "execution_count": 8,
      "outputs": []
    },
    {
      "cell_type": "code",
      "metadata": {
        "id": "70GRWTAAhuH9",
        "colab_type": "code",
        "colab": {
          "base_uri": "https://localhost:8080/",
          "height": 35
        },
        "outputId": "14ccdcc2-656a-4963-9c37-a927ee6e6ca4"
      },
      "source": [
        "words = ['Natural', 'Language', 'Processing']\n",
        "filter_long_words(words, 7)"
      ],
      "execution_count": 10,
      "outputs": [
        {
          "output_type": "execute_result",
          "data": {
            "text/plain": [
              "['Language', 'Processing']"
            ]
          },
          "metadata": {
            "tags": []
          },
          "execution_count": 10
        }
      ]
    },
    {
      "cell_type": "markdown",
      "metadata": {
        "id": "_cPEKsPkfeet",
        "colab_type": "text"
      },
      "source": [
        "# Question 2.1\n",
        "**Write a Python program using function concepts that maps a list of words into a list of integers representing the lengths of the corresponding words.** \\\\"
      ]
    },
    {
      "cell_type": "code",
      "metadata": {
        "id": "yF0NlsT4gBMe",
        "colab_type": "code",
        "colab": {}
      },
      "source": [
        "def word_to_len(words):\n",
        "    lengths = [len(word) for word in words]        # list of corresponding word lengths\n",
        "    return(lengths)"
      ],
      "execution_count": 6,
      "outputs": []
    },
    {
      "cell_type": "code",
      "metadata": {
        "id": "t3NsEvDuhOr7",
        "colab_type": "code",
        "colab": {
          "base_uri": "https://localhost:8080/",
          "height": 35
        },
        "outputId": "a3afbaf4-c8db-48a6-ade5-2624e3aba087"
      },
      "source": [
        "words = ['Natural', 'Language', 'Processing']\n",
        "word_to_len(words)"
      ],
      "execution_count": 7,
      "outputs": [
        {
          "output_type": "execute_result",
          "data": {
            "text/plain": [
              "[7, 8, 10]"
            ]
          },
          "metadata": {
            "tags": []
          },
          "execution_count": 7
        }
      ]
    },
    {
      "cell_type": "markdown",
      "metadata": {
        "id": "KUGN986egBy9",
        "colab_type": "text"
      },
      "source": [
        "# Question 2.2\n",
        "**Write a Python function which takes a character(i.e., a string of length 1) and returns True if it is a vowel, and False otherwise.**"
      ]
    },
    {
      "cell_type": "code",
      "metadata": {
        "id": "B1ifno38gTMV",
        "colab_type": "code",
        "colab": {}
      },
      "source": [
        "def isVowel(letter):\n",
        "    vowels = ['a', 'e', 'i', 'o', 'u', 'A', 'E', 'I', 'O', 'U']         # pre-defining the set of vowels\n",
        "    if letter in vowels:\n",
        "        return True\n",
        "    else: \n",
        "        return False"
      ],
      "execution_count": 1,
      "outputs": []
    },
    {
      "cell_type": "code",
      "metadata": {
        "id": "ZIHDvyccgnFu",
        "colab_type": "code",
        "colab": {
          "base_uri": "https://localhost:8080/",
          "height": 35
        },
        "outputId": "1685ea4c-a1d9-4f76-b80f-3207d9cf3acd"
      },
      "source": [
        "isVowel('a')"
      ],
      "execution_count": 2,
      "outputs": [
        {
          "output_type": "execute_result",
          "data": {
            "text/plain": [
              "True"
            ]
          },
          "metadata": {
            "tags": []
          },
          "execution_count": 2
        }
      ]
    },
    {
      "cell_type": "code",
      "metadata": {
        "id": "gh7AiBdqgqW6",
        "colab_type": "code",
        "colab": {
          "base_uri": "https://localhost:8080/",
          "height": 35
        },
        "outputId": "feb04b24-eb21-48da-ce02-f40a71b897c6"
      },
      "source": [
        "isVowel('M')"
      ],
      "execution_count": 5,
      "outputs": [
        {
          "output_type": "execute_result",
          "data": {
            "text/plain": [
              "False"
            ]
          },
          "metadata": {
            "tags": []
          },
          "execution_count": 5
        }
      ]
    }
  ]
}