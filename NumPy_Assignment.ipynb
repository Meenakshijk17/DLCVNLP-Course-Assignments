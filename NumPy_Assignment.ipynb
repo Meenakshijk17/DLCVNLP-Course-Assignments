{
  "nbformat": 4,
  "nbformat_minor": 0,
  "metadata": {
    "colab": {
      "name": "NumPy Assignment.ipynb",
      "provenance": [],
      "collapsed_sections": [
        "B6AhcxkdVfhr"
      ]
    },
    "kernelspec": {
      "name": "python3",
      "display_name": "Python 3"
    }
  },
  "cells": [
    {
      "cell_type": "code",
      "metadata": {
        "id": "c71-L4oyUYSC",
        "colab_type": "code",
        "colab": {}
      },
      "source": [
        "import numpy as np"
      ],
      "execution_count": 1,
      "outputs": []
    },
    {
      "cell_type": "markdown",
      "metadata": {
        "id": "h-JHplDHUtbM",
        "colab_type": "text"
      },
      "source": [
        "# Question 1\n",
        "**Write a function that takes in a vector and returns a matrix whose columns are the powers of the input vector. (The Vandermonde Matrix)**"
      ]
    },
    {
      "cell_type": "code",
      "metadata": {
        "id": "qaqwxyTVUgvX",
        "colab_type": "code",
        "colab": {}
      },
      "source": [
        "def Vandermonde(vector, n):\n",
        "    # n : number of columns required\n",
        "    m = len(vector)\n",
        "    vector = np.array(vector)\n",
        "    V_matrix = np.zeros((m, n))\n",
        "    for i in range(0, n):\n",
        "        V_matrix[:, i] = vector**i\n",
        "    print(V_matrix)"
      ],
      "execution_count": 9,
      "outputs": []
    },
    {
      "cell_type": "markdown",
      "metadata": {
        "id": "bXCJBWVvZqR0",
        "colab_type": "text"
      },
      "source": [
        "**Example**"
      ]
    },
    {
      "cell_type": "code",
      "metadata": {
        "id": "D8eZblyUW-Pi",
        "colab_type": "code",
        "colab": {
          "base_uri": "https://localhost:8080/",
          "height": 90
        },
        "outputId": "3fac6541-6f37-40ac-a0e2-122f4fc064c5"
      },
      "source": [
        "vector = [1, 2, 3, 4]\n",
        "n = 5\n",
        "Vandermonde(vector, n)"
      ],
      "execution_count": 10,
      "outputs": [
        {
          "output_type": "stream",
          "text": [
            "[[  1.   1.   1.   1.   1.]\n",
            " [  1.   2.   4.   8.  16.]\n",
            " [  1.   3.   9.  27.  81.]\n",
            " [  1.   4.  16.  64. 256.]]\n"
          ],
          "name": "stdout"
        }
      ]
    },
    {
      "cell_type": "markdown",
      "metadata": {
        "id": "B6AhcxkdVfhr",
        "colab_type": "text"
      },
      "source": [
        "# Question 2\n",
        "**Write a function to find the moving average in an array over a given window.**"
      ]
    },
    {
      "cell_type": "code",
      "metadata": {
        "id": "9TlIjcyKVrd7",
        "colab_type": "code",
        "colab": {}
      },
      "source": [
        "def moving_avg(sequence, window_size):\n",
        "    num_elts = len(sequence) - window_size + 1      # number of elements in the moving average sequence\n",
        "    y = []                                          # initializing the moving average sequence\n",
        "    for i in range(num_elts):\n",
        "        avg = 0                                     # initializing the average\n",
        "        for j in range(i, i + window_size):\n",
        "            avg += sequence[j]                      \n",
        "        avg = avg / window_size                     # the average element\n",
        "        y.append(avg)                                 \n",
        "    print(y)"
      ],
      "execution_count": 16,
      "outputs": []
    },
    {
      "cell_type": "code",
      "metadata": {
        "id": "v9Ag4JbHYyR3",
        "colab_type": "code",
        "colab": {
          "base_uri": "https://localhost:8080/",
          "height": 55
        },
        "outputId": "aa035720-c931-4924-fe2c-b54c204534c9"
      },
      "source": [
        "sequence = [3, 5, 7, 2, 8, 10, 11, 65, 72, 81, 99, 100, 150]\n",
        "window_size = 3\n",
        "moving_avg(sequence, window_size)"
      ],
      "execution_count": 17,
      "outputs": [
        {
          "output_type": "stream",
          "text": [
            "[5.0, 4.666666666666667, 5.666666666666667, 6.666666666666667, 9.666666666666666, 28.666666666666668, 49.333333333333336, 72.66666666666667, 84.0, 93.33333333333333, 116.33333333333333]\n"
          ],
          "name": "stdout"
        }
      ]
    }
  ]
}