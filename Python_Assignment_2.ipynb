{
  "nbformat": 4,
  "nbformat_minor": 0,
  "metadata": {
    "colab": {
      "name": "Python Assignment 2.ipynb",
      "provenance": [],
      "collapsed_sections": [
        "0XaEaYsmyAF0",
        "y7ck0pd3zH4G"
      ]
    },
    "kernelspec": {
      "name": "python3",
      "display_name": "Python 3"
    }
  },
  "cells": [
    {
      "cell_type": "markdown",
      "metadata": {
        "id": "0XaEaYsmyAF0",
        "colab_type": "text"
      },
      "source": [
        "# Question 1\n",
        "**Create the pattern given below using nested loop in Python** \\\\\n",
        "* \\\\\n",
        "* * \\\\\n",
        "* * * \\\\\n",
        "* * * * \\\\\n",
        "* * * * * \\\\\n",
        "* * * * \\\\\n",
        "* * * \\\\\n",
        "* * \\\\\n",
        "*\n",
        "\n",
        "\n"
      ]
    },
    {
      "cell_type": "code",
      "metadata": {
        "id": "t_xU5cWKx7bA",
        "colab_type": "code",
        "colab": {
          "base_uri": "https://localhost:8080/",
          "height": 182
        },
        "outputId": "96307ec8-f716-4ba1-c1a0-cd154ef752e9"
      },
      "source": [
        "for i in range(0, 9):                       # iterating over each row\n",
        "    if i < 5 :                              # if in the first half of rows\n",
        "        for j in range(0, i+1):             # iterating over each column in the row; i-th row has i stars(columns)\n",
        "            print('*', end='')              # printing ending with an empty string rather than a \\n\n",
        "    else:                                   # if in the second half of rows\n",
        "        for j in range(0, 9-i):             # iterating over each column in the row; i-th row has 10-i stars(columns)\n",
        "            print('*', end='')              # printing ending with an empty string rather than a \\n  \n",
        "    print('')                               # printing an empty string to initiate a new row"
      ],
      "execution_count": 20,
      "outputs": [
        {
          "output_type": "stream",
          "text": [
            "*\n",
            "**\n",
            "***\n",
            "****\n",
            "*****\n",
            "****\n",
            "***\n",
            "**\n",
            "*\n"
          ],
          "name": "stdout"
        }
      ]
    },
    {
      "cell_type": "markdown",
      "metadata": {
        "id": "y7ck0pd3zH4G",
        "colab_type": "text"
      },
      "source": [
        "# Question 2\n",
        "**Write a Python program to reverse a word after accepting the input from the user.** "
      ]
    },
    {
      "cell_type": "code",
      "metadata": {
        "id": "MnG3C0DozRly",
        "colab_type": "code",
        "colab": {
          "base_uri": "https://localhost:8080/",
          "height": 54
        },
        "outputId": "7163dbd7-94d8-4f6b-d509-9d2302f33dea"
      },
      "source": [
        "word = input(\"Enter the word to be reversed : \")          # prompting the user to input a word\n",
        "reversed_word = ''                                        # initialising with an empty string\n",
        "for i in range(1, len(word)+1):\n",
        "    reversed_word += word[-i]                             # concatenating letters from right to left \n",
        "print(\"The reversed word is : \", reversed_word)"
      ],
      "execution_count": 6,
      "outputs": [
        {
          "output_type": "stream",
          "text": [
            "Enter the word to be reversed : iNeuron\n",
            "The reversed word is :  norueNi\n"
          ],
          "name": "stdout"
        }
      ]
    }
  ]
}