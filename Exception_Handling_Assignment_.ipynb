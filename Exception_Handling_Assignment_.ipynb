{
  "nbformat": 4,
  "nbformat_minor": 0,
  "metadata": {
    "colab": {
      "name": "Exception Handling Assignment .ipynb",
      "provenance": [],
      "collapsed_sections": [
        "a_nCEZ-W6uzP",
        "0qDa7ont64AB"
      ]
    },
    "kernelspec": {
      "name": "python3",
      "display_name": "Python 3"
    }
  },
  "cells": [
    {
      "cell_type": "markdown",
      "metadata": {
        "id": "a_nCEZ-W6uzP",
        "colab_type": "text"
      },
      "source": [
        "# Question 1\n",
        "**Write a function to compute 5/0 and use try/except to catch the exceptions.**"
      ]
    },
    {
      "cell_type": "code",
      "metadata": {
        "id": "IhM3CmXU6dKy",
        "colab_type": "code",
        "colab": {
          "base_uri": "https://localhost:8080/",
          "height": 35
        },
        "outputId": "a80f64fa-26da-4f4e-90ca-dbf33b7d7385"
      },
      "source": [
        "def question1():\n",
        "    try:                                           \n",
        "        ans = 5/0\n",
        "        print(ans)\n",
        "    except ZeroDivisionError:\n",
        "        print(\"Division by zero is undefined.\")\n",
        "\n",
        "question1()"
      ],
      "execution_count": 5,
      "outputs": [
        {
          "output_type": "stream",
          "text": [
            "Division by zero is undefined.\n"
          ],
          "name": "stdout"
        }
      ]
    },
    {
      "cell_type": "markdown",
      "metadata": {
        "id": "0qDa7ont64AB",
        "colab_type": "text"
      },
      "source": [
        "# Question 2\n",
        "**Implement a Python program to generate all sentences with subject from [\"Americans\", \"Indians\"], verb from [\"play\", \"watch\"] and object from [\"Baseball\", \"Cricket\"].**"
      ]
    },
    {
      "cell_type": "code",
      "metadata": {
        "id": "D7aXduM17UnP",
        "colab_type": "code",
        "colab": {
          "base_uri": "https://localhost:8080/",
          "height": 201
        },
        "outputId": "cb4e5e85-a9f7-4be9-8c78-8cc37d288461"
      },
      "source": [
        "subjects = [\"Americans\", \"Indians\"]\n",
        "verbs = [\"play\", \"watch\"]\n",
        "objects = [\"Baseball\", \"Cricket\"]\n",
        "\n",
        "print(\"The possible sentences are : \\n\")\n",
        "\n",
        "for subject in subjects:                                        # iterating over each of the subjects\n",
        "    for verb in verbs:                                          # iterating over each of the verbs\n",
        "        for obj in objects:                                     # iterating over each of the objects\n",
        "            print(subject + ' ' + verb + ' ' + obj + '.')       # concatenating with spaces and full-stop "
      ],
      "execution_count": 9,
      "outputs": [
        {
          "output_type": "stream",
          "text": [
            "The possible sentences are : \n",
            "\n",
            "Americans play Baseball.\n",
            "Americans play Cricket.\n",
            "Americans watch Baseball.\n",
            "Americans watch Cricket.\n",
            "Indians play Baseball.\n",
            "Indians play Cricket.\n",
            "Indians watch Baseball.\n",
            "Indians watch Cricket.\n"
          ],
          "name": "stdout"
        }
      ]
    }
  ]
}