{
  "nbformat": 4,
  "nbformat_minor": 0,
  "metadata": {
    "colab": {
      "name": "Python Assignment 3.ipynb",
      "provenance": [],
      "collapsed_sections": [
        "74mFSF5Zxdwq",
        "rQO-ZcFXxwyn"
      ]
    },
    "kernelspec": {
      "name": "python3",
      "display_name": "Python 3"
    }
  },
  "cells": [
    {
      "cell_type": "markdown",
      "metadata": {
        "id": "74mFSF5Zxdwq",
        "colab_type": "text"
      },
      "source": [
        "# Question 1.1\n",
        "**Write a Python program to implement you own myreduce() function which works exactly like Python's built-in function reduce().**"
      ]
    },
    {
      "cell_type": "markdown",
      "metadata": {
        "id": "EaKBC7Utz4SJ",
        "colab_type": "text"
      },
      "source": [
        "The reduce(function, iterable[, initializer]) function is used to apply function of two arguments cumulatively to the items of iterable, from left to right, so as to reduce the iterable to a single value. If the optional initializer is present, it is placed before the items of the iterable in the calculation, and serves as a default when the iterable is empty. If initializer is not given and iterable contains only one item, the first item is returned."
      ]
    },
    {
      "cell_type": "code",
      "metadata": {
        "id": "Q4BsvVgcxaHY",
        "colab_type": "code",
        "colab": {}
      },
      "source": [
        "def myreduce(function, iterable, initializer=None):\n",
        "    if initializer == None:\n",
        "        result = iterable[0]                           # initializing the result with the first element, if the initializer is not provided\n",
        "        i = 1                                          # initializing the next element's position\n",
        "    else:\n",
        "        result = initializer                           # initializing the result with the initializer, if provided\n",
        "        i = 0                                          # initializing the next element's position\n",
        "    while i < len(iterable):                           # iterating from the next element's position to the last's\n",
        "        operand_1 = result                             # first operand = previous function output\n",
        "        operand_2 = iterable[i]                        # second operand = next element\n",
        "        result = function(operand_1, operand_2)        # performing the function\n",
        "        i += 1                                         # updating the next element's position\n",
        "    return(result)"
      ],
      "execution_count": 35,
      "outputs": []
    },
    {
      "cell_type": "markdown",
      "metadata": {
        "id": "jQVKj_HoGymN",
        "colab_type": "text"
      },
      "source": [
        "**Examples**"
      ]
    },
    {
      "cell_type": "code",
      "metadata": {
        "id": "4lVeCpSY1_-m",
        "colab_type": "code",
        "colab": {
          "base_uri": "https://localhost:8080/",
          "height": 35
        },
        "outputId": "e2a08103-b555-4b4f-fe7a-906cc1c2e05a"
      },
      "source": [
        "iterable = [1, 3, 5, 6, 2]\n",
        "function = lambda a, b: a + b                        # function to find the sum of two elements\n",
        "initializer = 10                      \n",
        "print(myreduce(function, iterable, 10))"
      ],
      "execution_count": 32,
      "outputs": [
        {
          "output_type": "stream",
          "text": [
            "27\n"
          ],
          "name": "stdout"
        }
      ]
    },
    {
      "cell_type": "code",
      "metadata": {
        "id": "JBQVE70x9joc",
        "colab_type": "code",
        "colab": {
          "base_uri": "https://localhost:8080/",
          "height": 35
        },
        "outputId": "4c3fb048-69ba-4ef8-ada7-62fb5b29a658"
      },
      "source": [
        "iterable = [11,]                                      # the same function on an iterable of one element\n",
        "function = lambda a, b: a + b\n",
        "print(myreduce(function, iterable))                   # no initializer given"
      ],
      "execution_count": 34,
      "outputs": [
        {
          "output_type": "stream",
          "text": [
            "11\n"
          ],
          "name": "stdout"
        }
      ]
    },
    {
      "cell_type": "code",
      "metadata": {
        "id": "sSBmZjpd2i18",
        "colab_type": "code",
        "colab": {
          "base_uri": "https://localhost:8080/",
          "height": 35
        },
        "outputId": "f18d3eda-4b4f-4127-c281-a03bac056bc5"
      },
      "source": [
        "iterable = (1, 3, 5, 6, 2)                           # a tuple\n",
        "function = lambda a, b: a if a > b else b            # function to find the maximum of two elements\n",
        "print(myreduce(function, iterable))"
      ],
      "execution_count": 36,
      "outputs": [
        {
          "output_type": "stream",
          "text": [
            "6\n"
          ],
          "name": "stdout"
        }
      ]
    },
    {
      "cell_type": "code",
      "metadata": {
        "id": "4MSn3A7v2lts",
        "colab_type": "code",
        "colab": {
          "base_uri": "https://localhost:8080/",
          "height": 35
        },
        "outputId": "e58a4ef2-c5fc-4016-a3c7-077da2532f13"
      },
      "source": [
        "iterable = 'abcdefg'                                 # a string\n",
        "function = lambda a, b: a + ' ' + b                  # function to add space in between elements\n",
        "print(myreduce(function, iterable))"
      ],
      "execution_count": 42,
      "outputs": [
        {
          "output_type": "stream",
          "text": [
            "a b c d e f g\n"
          ],
          "name": "stdout"
        }
      ]
    },
    {
      "cell_type": "code",
      "metadata": {
        "id": "xVQa2_hw5Grr",
        "colab_type": "code",
        "colab": {
          "base_uri": "https://localhost:8080/",
          "height": 35
        },
        "outputId": "61a0b782-e24e-4c03-c791-128cd32c229d"
      },
      "source": [
        "iterable = ['Natural', 'Language', 'Processing']\n",
        "function = lambda a, b: a + b                        # function to add two elements; here, to concatenate two strings\n",
        "print(myreduce(function, iterable))"
      ],
      "execution_count": 43,
      "outputs": [
        {
          "output_type": "stream",
          "text": [
            "NaturalLanguageProcessing\n"
          ],
          "name": "stdout"
        }
      ]
    },
    {
      "cell_type": "markdown",
      "metadata": {
        "id": "rQO-ZcFXxwyn",
        "colab_type": "text"
      },
      "source": [
        "# Question 1.2\n",
        "**Write a Python program to implement your own myfilter() function which works exactly like Python's built-in function filter().**"
      ]
    },
    {
      "cell_type": "markdown",
      "metadata": {
        "id": "kjiMGivUAERV",
        "colab_type": "text"
      },
      "source": [
        "The filter(function, iterable) method filters the given iterable with the help of a function that tests each element in the iterable to be true or not. It returns an iterator that passed the function check for each element in the iterable. If the function passed in is None, the output is the iterable itself."
      ]
    },
    {
      "cell_type": "code",
      "metadata": {
        "id": "V92-1pFox9xO",
        "colab_type": "code",
        "colab": {}
      },
      "source": [
        "def myfilter(function, iterable):\n",
        "    if function == None:\n",
        "        return(iterable)                                  # returns the iterable itself if the function is None\n",
        "    else:\n",
        "        out = [elt for elt in iterable if function(elt)]  # list comprehension with function values = True\n",
        "        return(out)"
      ],
      "execution_count": 55,
      "outputs": []
    },
    {
      "cell_type": "markdown",
      "metadata": {
        "id": "tH-h-N8dCj5Y",
        "colab_type": "text"
      },
      "source": [
        "**Examples**"
      ]
    },
    {
      "cell_type": "code",
      "metadata": {
        "id": "0wKHNCzZBg6U",
        "colab_type": "code",
        "colab": {
          "base_uri": "https://localhost:8080/",
          "height": 35
        },
        "outputId": "7b96e290-1ba4-433e-e7ea-a09a2c28d6ae"
      },
      "source": [
        "iterable = ['a', 'b', 'c', 'd', 'm', 'n']\n",
        "def isVowel(letter):                                     # function to check whether a letter is a vowel or not\n",
        "    vowels = ['a', 'e', 'i', 'o', 'u']\n",
        "    if letter in vowels:\n",
        "        return(True)\n",
        "    else:\n",
        "        return(False)\n",
        "print(myfilter(isVowel, iterable))"
      ],
      "execution_count": 56,
      "outputs": [
        {
          "output_type": "stream",
          "text": [
            "['a']\n"
          ],
          "name": "stdout"
        }
      ]
    },
    {
      "cell_type": "code",
      "metadata": {
        "id": "f5amKvlYCiJy",
        "colab_type": "code",
        "colab": {
          "base_uri": "https://localhost:8080/",
          "height": 35
        },
        "outputId": "8568544d-53e4-4943-ed73-8d9d526e4469"
      },
      "source": [
        "print(myfilter(None, iterable))"
      ],
      "execution_count": 57,
      "outputs": [
        {
          "output_type": "stream",
          "text": [
            "['a', 'b', 'c', 'd', 'm', 'n']\n"
          ],
          "name": "stdout"
        }
      ]
    },
    {
      "cell_type": "markdown",
      "metadata": {
        "id": "Gl_XYgGgx-VD",
        "colab_type": "text"
      },
      "source": [
        "# Question 3\n",
        "**Implement list comprehensions to produce the following lists :**"
      ]
    },
    {
      "cell_type": "markdown",
      "metadata": {
        "id": "6mtVN1RJyKhk",
        "colab_type": "text"
      },
      "source": [
        "* ['x', 'xx', 'xxx', 'xxxx', 'y', 'yy', 'yyy', 'yyyy', 'z', 'zz', 'zzz', 'zzzz']"
      ]
    },
    {
      "cell_type": "code",
      "metadata": {
        "id": "feqnh6pgyIiS",
        "colab_type": "code",
        "colab": {
          "base_uri": "https://localhost:8080/",
          "height": 35
        },
        "outputId": "9ea0a81a-e635-4891-ad11-a495e56c1675"
      },
      "source": [
        "letters = ['x', 'y', 'z']\n",
        "out = [letter*i for letter in letters for i in range(1, 5)]\n",
        "out"
      ],
      "execution_count": 62,
      "outputs": [
        {
          "output_type": "execute_result",
          "data": {
            "text/plain": [
              "['x', 'xx', 'xxx', 'xxxx', 'y', 'yy', 'yyy', 'yyyy', 'z', 'zz', 'zzz', 'zzzz']"
            ]
          },
          "metadata": {
            "tags": []
          },
          "execution_count": 62
        }
      ]
    },
    {
      "cell_type": "markdown",
      "metadata": {
        "id": "m9kKn_7gyXjq",
        "colab_type": "text"
      },
      "source": [
        "* ['x', 'y', 'z', 'xx', 'yy', 'zz', 'xxx', 'yyy', 'zzz', 'xxxx', 'yyyy', 'zzzz']"
      ]
    },
    {
      "cell_type": "code",
      "metadata": {
        "id": "1bGocgIPyhk-",
        "colab_type": "code",
        "colab": {
          "base_uri": "https://localhost:8080/",
          "height": 35
        },
        "outputId": "47313682-565f-4862-9ed5-360f0270e5fa"
      },
      "source": [
        "letters = ['x', 'y', 'z']\n",
        "out = [letter*i for i in range(1, 5) for letter in letters]\n",
        "out"
      ],
      "execution_count": 63,
      "outputs": [
        {
          "output_type": "execute_result",
          "data": {
            "text/plain": [
              "['x', 'y', 'z', 'xx', 'yy', 'zz', 'xxx', 'yyy', 'zzz', 'xxxx', 'yyyy', 'zzzz']"
            ]
          },
          "metadata": {
            "tags": []
          },
          "execution_count": 63
        }
      ]
    },
    {
      "cell_type": "markdown",
      "metadata": {
        "id": "_k84mzggyjJY",
        "colab_type": "text"
      },
      "source": [
        "* [[2], [3], [4], [5], [6]]"
      ]
    },
    {
      "cell_type": "code",
      "metadata": {
        "id": "s3p-1uusyxx8",
        "colab_type": "code",
        "colab": {
          "base_uri": "https://localhost:8080/",
          "height": 35
        },
        "outputId": "f66ab965-79f3-45b8-8c97-550c3bafc406"
      },
      "source": [
        "out = [[i] for i in range(2, 7)]\n",
        "out"
      ],
      "execution_count": 64,
      "outputs": [
        {
          "output_type": "execute_result",
          "data": {
            "text/plain": [
              "[[2], [3], [4], [5], [6]]"
            ]
          },
          "metadata": {
            "tags": []
          },
          "execution_count": 64
        }
      ]
    },
    {
      "cell_type": "markdown",
      "metadata": {
        "id": "WY9UvK_0yyYu",
        "colab_type": "text"
      },
      "source": [
        "* [[2, 3, 4, 5], [3, 4, 5, 6], [4, 5, 6, 7], [5, 6, 7, 8]]"
      ]
    },
    {
      "cell_type": "code",
      "metadata": {
        "id": "5xaQYmA3y54t",
        "colab_type": "code",
        "colab": {
          "base_uri": "https://localhost:8080/",
          "height": 35
        },
        "outputId": "d9a1ddb1-6d51-4d79-f172-9d0a2e62d803"
      },
      "source": [
        "out = [[i, i+1, i+2, i+3] for i in range(2, 6)]\n",
        "out"
      ],
      "execution_count": 67,
      "outputs": [
        {
          "output_type": "execute_result",
          "data": {
            "text/plain": [
              "[[2, 3, 4, 5], [3, 4, 5, 6], [4, 5, 6, 7], [5, 6, 7, 8]]"
            ]
          },
          "metadata": {
            "tags": []
          },
          "execution_count": 67
        }
      ]
    },
    {
      "cell_type": "markdown",
      "metadata": {
        "id": "OIanF9j-y7tV",
        "colab_type": "text"
      },
      "source": [
        "* [(1, 1), (2, 1), (3, 1), (1, 2), (2, 2), (3, 2), (1, 3), (2, 3), (3, 3)]"
      ]
    },
    {
      "cell_type": "code",
      "metadata": {
        "id": "qZj3KPWczGJW",
        "colab_type": "code",
        "colab": {
          "base_uri": "https://localhost:8080/",
          "height": 35
        },
        "outputId": "6f4979c4-1095-4340-c43e-848b0a4523c1"
      },
      "source": [
        "out = [(i, j) for j in range(1, 4) for i in range(1, 4)]\n",
        "out"
      ],
      "execution_count": 70,
      "outputs": [
        {
          "output_type": "execute_result",
          "data": {
            "text/plain": [
              "[(1, 1), (2, 1), (3, 1), (1, 2), (2, 2), (3, 2), (1, 3), (2, 3), (3, 3)]"
            ]
          },
          "metadata": {
            "tags": []
          },
          "execution_count": 70
        }
      ]
    }
  ]
}