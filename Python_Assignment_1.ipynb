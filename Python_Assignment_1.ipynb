{
  "nbformat": 4,
  "nbformat_minor": 0,
  "metadata": {
    "colab": {
      "name": "Python Assignment 1.ipynb",
      "provenance": [],
      "collapsed_sections": [
        "dHxW6lNe66Ij",
        "557pz_Yy89GH",
        "YEq0CEbP9W9B"
      ]
    },
    "kernelspec": {
      "name": "python3",
      "display_name": "Python 3"
    }
  },
  "cells": [
    {
      "cell_type": "markdown",
      "metadata": {
        "id": "dHxW6lNe66Ij",
        "colab_type": "text"
      },
      "source": [
        "# Question - 1\n",
        "**Write a program which will find all numbers which are divisible by 7 but are not multiples of 5, between 2000 and 3200(both included). The numbers obtained should be printed in a comma-separated sequence on a single line.**"
      ]
    },
    {
      "cell_type": "code",
      "metadata": {
        "id": "ye3snpR36wF3",
        "colab_type": "code",
        "colab": {
          "base_uri": "https://localhost:8080/",
          "height": 55
        },
        "outputId": "c0634888-fc36-4dff-c75b-c1845f572f9f"
      },
      "source": [
        "def question1():\n",
        "    numbers = []                                  # empty list to store the obtained numbers\n",
        "    for num in range(2000, 3201):                 # iterating from 2000 to 3200\n",
        "        if num % 7 == 0 and not num % 5 == 0:     # imposing the required conditions\n",
        "            numbers.append(num)                   # appending the number obtained to the list\n",
        "    print(numbers)\n",
        "question1()"
      ],
      "execution_count": 2,
      "outputs": [
        {
          "output_type": "stream",
          "text": [
            "[2002, 2009, 2016, 2023, 2037, 2044, 2051, 2058, 2072, 2079, 2086, 2093, 2107, 2114, 2121, 2128, 2142, 2149, 2156, 2163, 2177, 2184, 2191, 2198, 2212, 2219, 2226, 2233, 2247, 2254, 2261, 2268, 2282, 2289, 2296, 2303, 2317, 2324, 2331, 2338, 2352, 2359, 2366, 2373, 2387, 2394, 2401, 2408, 2422, 2429, 2436, 2443, 2457, 2464, 2471, 2478, 2492, 2499, 2506, 2513, 2527, 2534, 2541, 2548, 2562, 2569, 2576, 2583, 2597, 2604, 2611, 2618, 2632, 2639, 2646, 2653, 2667, 2674, 2681, 2688, 2702, 2709, 2716, 2723, 2737, 2744, 2751, 2758, 2772, 2779, 2786, 2793, 2807, 2814, 2821, 2828, 2842, 2849, 2856, 2863, 2877, 2884, 2891, 2898, 2912, 2919, 2926, 2933, 2947, 2954, 2961, 2968, 2982, 2989, 2996, 3003, 3017, 3024, 3031, 3038, 3052, 3059, 3066, 3073, 3087, 3094, 3101, 3108, 3122, 3129, 3136, 3143, 3157, 3164, 3171, 3178, 3192, 3199]\n"
          ],
          "name": "stdout"
        }
      ]
    },
    {
      "cell_type": "markdown",
      "metadata": {
        "id": "557pz_Yy89GH",
        "colab_type": "text"
      },
      "source": [
        "# Question - 2 \n",
        "**Write a Python program to accept the user's first and last name and then to print them in the reverse order with a space between the first and last names.**"
      ]
    },
    {
      "cell_type": "markdown",
      "metadata": {
        "id": "LfAN8ywl_x-Y",
        "colab_type": "text"
      },
      "source": [
        "*Example* \\\\\n",
        "User Input : \\\\\n",
        "First name : Meenakshi  \\\\\n",
        "Last name : Krishnakumar  \\\\\n",
        "Output : Krishnakumar Meenakshi"
      ]
    },
    {
      "cell_type": "code",
      "metadata": {
        "id": "PFqa1qC279N-",
        "colab_type": "code",
        "colab": {
          "base_uri": "https://localhost:8080/",
          "height": 72
        },
        "outputId": "c17737e4-eac7-4d8b-db4c-5e51c306c0cc"
      },
      "source": [
        "def question2():\n",
        "    first_name = input(\"Enter your first name : \")   # prompting the user to input the first name\n",
        "    last_name = input(\"Enter your last name : \")     # prompting the user to input the last name\n",
        "    print(last_name + ' ' + first_name)              # Reversing the order of the names and concatenating\n",
        "question2()"
      ],
      "execution_count": 13,
      "outputs": [
        {
          "output_type": "stream",
          "text": [
            "Enter your first name : Meenakshi\n",
            "Enter your last name : Krishnakumar\n",
            "Krishnakumar Meenakshi\n"
          ],
          "name": "stdout"
        }
      ]
    },
    {
      "cell_type": "markdown",
      "metadata": {
        "id": "YEq0CEbP9W9B",
        "colab_type": "text"
      },
      "source": [
        "# Question - 3\n",
        "**Write a Python program to find the volume of a sphere with diameter 12 cm.** \\\\\n",
        "Formula : $V = \\frac{4}{3} \\pi r^3 $"
      ]
    },
    {
      "cell_type": "code",
      "metadata": {
        "id": "FbF-C3aI9qzr",
        "colab_type": "code",
        "colab": {
          "base_uri": "https://localhost:8080/",
          "height": 35
        },
        "outputId": "62aa31f8-5e5a-4835-b646-56ae091111dd"
      },
      "source": [
        "import numpy as np                                 # importing the numpy library to obtain the value of pi\n",
        "def question3(diameter):\n",
        "    radius = diameter / 2                          # calculating the radius of the sphere\n",
        "    volume = (4/3) * np.pi * (radius**3)           # calculating the volume\n",
        "    print(\"The volume of a sphere with diameter {} cm is {}\".format(diameter, volume))\n",
        "question3(diameter=12)"
      ],
      "execution_count": 12,
      "outputs": [
        {
          "output_type": "stream",
          "text": [
            "The volume of a sphere with diameter 12 cm is 904.7786842338603\n"
          ],
          "name": "stdout"
        }
      ]
    }
  ]
}